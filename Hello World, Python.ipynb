{
 "cells": [
  {
   "cell_type": "markdown",
   "metadata": {},
   "source": [
    "This is a significant moment.\n",
    "\n",
    "On the 1st of June, 2022, I, Arjun Pavakkulath, wrote my first line of code in Python. \n",
    "\n",
    "This means I toyed with the idea of starting something new for a while. \n",
    "After that “while” of time, I decided that this was something I wanted to do. \n",
    "Then on the 1st of June 2022, I started my journey into the world of data. \n",
    "\n",
    "It’s a scary prospect. \n",
    "It’s scary to start something new. But this is a drop in the bucket in relation to everything else I’ve ever done in my life.\n",
    "I am an amalgamation of all scary things I’ve done that eventually became something I got decent at. \n",
    "\n",
    "So yeah, Hello World, Python!\n"
   ]
  },
  {
   "cell_type": "code",
   "execution_count": 1,
   "metadata": {},
   "outputs": [
    {
     "name": "stdout",
     "output_type": "stream",
     "text": [
      "Hello World, Python!\n"
     ]
    }
   ],
   "source": [
    "print(\"Hello World, Python!\")"
   ]
  }
 ],
 "metadata": {
  "interpreter": {
   "hash": "7a8a4dc8d613e9e8c27c5e2456f5c23295b15759bea07848d14bd96410205d8c"
  },
  "kernelspec": {
   "display_name": "Python 3.9.12 ('base')",
   "language": "python",
   "name": "python3"
  },
  "language_info": {
   "codemirror_mode": {
    "name": "ipython",
    "version": 3
   },
   "file_extension": ".py",
   "mimetype": "text/x-python",
   "name": "python",
   "nbconvert_exporter": "python",
   "pygments_lexer": "ipython3",
   "version": "3.9.12"
  },
  "orig_nbformat": 4
 },
 "nbformat": 4,
 "nbformat_minor": 2
}
